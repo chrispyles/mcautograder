{
 "cells": [
  {
   "cell_type": "markdown",
   "metadata": {},
   "source": [
    "# Tests\n",
    "\n",
    "[Home](index) | [Usage](usage) | [Tests](tests) | [Docs](docs) | [License](license) | [Help](help)\n",
    "\n",
    "The autograder relies on a tests file to get the answers for the questions. Tests are ususally distributed in a hidden file, e.g. `.tests.py`. \n",
    "\n",
    "In the file, define a variable `answers` which is a list containing dictionaries, each of which represents a single question. Each dictionary should contain 3 keys: `\"identifier\"`, `\"answer\"`, and, optionally, `\"points\"`. If your assignment is unscored, you can leave off the `\"points\"` key. A description of the keys' values is given below:\n",
    "\n",
    "| Key | Value Type | Value Description |\n",
    "|-----|-----|-----|\n",
    "| `\"identifier\"` | `str` | a unique question identifier |\n",
    "| `\"answer\"` | `str`, `int` | the answer to the question; specifications below |\n",
    "| `\"points\"` | `int` | optional; the number of points assigned to that question |\n",
    "\n",
    "Answers **must** be of length 1 (i.e. a single-character string or a single-digit integer). The autograder is currently set up to throw an `AssertionError` if an answer of length > 1 is submitted, although we do intend to add this functionality later.\n",
    "\n",
    "An example of a tests file is given below.\n",
    "\n",
    "```python\n",
    "answers = [\n",
    "\t{\n",
    "\t\t\"identifier\": \"q1\",\n",
    "\t\t\"answer\": 3,\n",
    "\t\t\"points\": 1,\n",
    "\t}, {\n",
    "\t\t\"identifier\": \"q2\",\n",
    "\t\t\"answer\": 2,\n",
    "\t\t\"points\": 2,\n",
    "\t}, {\n",
    "\t\t\"identifier\": \"q3\",\n",
    "\t\t\"answer\": \"D\",\n",
    "\t\t\"points\": 3,\n",
    "\t}\n",
    "]\n",
    "```\n",
    "\n",
    "The identifiers have no set format. This is because the identifier is passed to `Notebook.check()` when you call it in the notebook."
   ]
  }
 ],
 "metadata": {
  "kernelspec": {
   "display_name": "Python 3",
   "language": "python",
   "name": "python3"
  },
  "language_info": {
   "codemirror_mode": {
    "name": "ipython",
    "version": 3
   },
   "file_extension": ".py",
   "mimetype": "text/x-python",
   "name": "python",
   "nbconvert_exporter": "python",
   "pygments_lexer": "ipython3",
   "version": "3.6.5"
  }
 },
 "nbformat": 4,
 "nbformat_minor": 2
}
