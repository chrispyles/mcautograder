{
 "cells": [
  {
   "cell_type": "markdown",
   "metadata": {},
   "source": [
    "# `mcuaotgrader` Documentation\n",
    "\n",
    "[Home](index) | [Docs](docs) | [License](license) | [Help](help)\n",
    "\n",
    "## What is `mcautograder`?\n",
    "\n",
    "This library is a mutliple choice question autograding library for Python. It was developed to be packaged with Jupyter Notebooks in such a way that does not require any special setup on the part of the server.\n",
    "\n",
    "## Installation\n",
    "\n",
    "You can install `mcautograder` using pip.\n",
    "\n",
    "```bash\n",
    "pip install mcautograder\n",
    "```"
   ]
  }
 ],
 "metadata": {
  "kernelspec": {
   "display_name": "Python 3",
   "language": "python",
   "name": "python3"
  },
  "language_info": {
   "codemirror_mode": {
    "name": "ipython",
    "version": 3
   },
   "file_extension": ".py",
   "mimetype": "text/x-python",
   "name": "python",
   "nbconvert_exporter": "python",
   "pygments_lexer": "ipython3",
   "version": "3.6.5"
  }
 },
 "nbformat": 4,
 "nbformat_minor": 2
}
