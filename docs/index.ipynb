{
 "cells": [
  {
   "cell_type": "markdown",
   "metadata": {},
   "source": [
    "# `mcuaotgrader` Documentation\n",
    "\n",
    "[Home](index) | [Usage](usage) | [Tests](tests) | [Docs](docs) | [License](license) | [Help](help)\n",
    "\n",
    "## What is `mcautograder`?\n",
    "\n",
    "This library is a mutliple choice question autograding library for Python. It was developed to be packaged with Jupyter Notebooks in such a way that does not require any special setup on the part of the server.\n",
    "\n",
    "## Installation\n",
    "\n",
    "You can install `mcautograder` using pip.\n",
    "\n",
    "```bash\n",
    "pip install mcautograder\n",
    "```\n",
    "\n",
    "## Changelog\n",
    "\n",
    "**v0.0.5:**\n",
    "\n",
    "* Changed `mcautograder.py` to `notebook.py` for less confusion\n",
    "* Changed `max_retakes` param to `max_attempts` for better understanding\n",
    "* Upadted docstring format for sphinx autodoc\n",
    "\n",
    "**v0.0.4:**\n",
    "\n",
    "* Moved utils to separate file for documentation\n",
    "\n",
    "**v0.0.3:**\n",
    "\n",
    "* Changed structure of tests file to be more intuitive\n",
    "* Added docstrings and better documentation"
   ]
  }
 ],
 "metadata": {
  "kernelspec": {
   "display_name": "Python 3",
   "language": "python",
   "name": "python3"
  },
  "language_info": {
   "codemirror_mode": {
    "name": "ipython",
    "version": 3
   },
   "file_extension": ".py",
   "mimetype": "text/x-python",
   "name": "python",
   "nbconvert_exporter": "python",
   "pygments_lexer": "ipython3",
   "version": "3.6.5"
  }
 },
 "nbformat": 4,
 "nbformat_minor": 2
}
