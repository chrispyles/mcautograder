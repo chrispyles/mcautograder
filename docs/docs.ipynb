{
 "cells": [
  {
   "cell_type": "markdown",
   "metadata": {},
   "source": [
    "# Docs\n",
    "\n",
    "[Home](index) | [Usage](usage) | [Tests](tests) | [Docs](docs) | [License](license) | [Help](help)\n",
    "\n",
    "This page contains the documentation for the classes and methods in the `mcautograder` package.\n",
    "\n",
    "---\n",
    "\n",
    "**_class_ `mcautograder.notebook.Notebook(tests, scored=False, max_attempts=None)`**\n",
    "\n",
    "Initializes multiple choice autograder.\n",
    "\n",
    "Args:\n",
    "\n",
    "* `tests` (`str`): The relative filepath to the tests file\n",
    "\n",
    "Kwargs:\n",
    "\n",
    "* `scored` (`bool`): Whether or not the assignment is scored\n",
    "* `max_attempts` (`int`): The maximum number of attempts allowed\n",
    "\n",
    "Returns:\n",
    "\n",
    "* `Notebook`. The `Notebook` instance for the autograder.\n",
    "\n",
    "**_method_ `mcautograder.notebook.Notebook.check(identifier, answer)`**\n",
    "\n",
    "Visible wrapper for `Notebook._check_answer` to print output based on student's answer and notebook parameters.\n",
    "\n",
    "Args:\n",
    "\n",
    "* `identifier` (`str`): The question identifier\n",
    "* `answer` (`str`, `int`): The student's answer\n",
    "\n",
    "Returns:\n",
    "\n",
    "* `None`. Prints out student's result\n",
    "\n",
    "**_method_ `mcautograder.notebook.Notebook.score()`**\n",
    "\n",
    "If assignment is scored, displays student's score as fraction and percentage.\n",
    "\n",
    "---\n",
    "\n",
    "**_function_ `mcautograder.utils.repeat(x, n)`**\n",
    "\n",
    "Returns a list of a given value repeated a given number of times.\n",
    "\n",
    "Args:\n",
    "* `x` (any): The value to repeat\n",
    "* `n` (`int`): The number of repetitions\n",
    "\n",
    "Returns:\n",
    "\n",
    "* `list`. List of repeated values `x`"
   ]
  }
 ],
 "metadata": {
  "kernelspec": {
   "display_name": "Python 3",
   "language": "python",
   "name": "python3"
  },
  "language_info": {
   "codemirror_mode": {
    "name": "ipython",
    "version": 3
   },
   "file_extension": ".py",
   "mimetype": "text/x-python",
   "name": "python",
   "nbconvert_exporter": "python",
   "pygments_lexer": "ipython3",
   "version": "3.6.5"
  }
 },
 "nbformat": 4,
 "nbformat_minor": 2
}
